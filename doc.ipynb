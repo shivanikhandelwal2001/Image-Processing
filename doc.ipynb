{
 "cells": [
  {
   "cell_type": "markdown",
   "metadata": {},
   "source": [
    "### 4D and 5D Images"
   ]
  },
  {
   "cell_type": "markdown",
   "metadata": {},
   "source": [
    "A 4D image extends the concept of a 3D image by adding an additional dimension, which is typically time.\n",
    "\n",
    "3D - The image has width (x), height (y) and depth (z) dimensions.\n",
    "\n",
    "The fourth dimension adds time, allowing for the representation of changes in the 3D spatial structure over time.\n",
    "\n",
    "Example: \n",
    "- Medical Imaging: 4D MRI or CT scans capture organ motion, such as the beating heart or moving lungs, over time.\n",
    "- Computer Graphics: Animated 3D models where changes occur over time.\n",
    "\n",
    "Typically stored as a 4D array or tensor with dimensions (x,y,z,t), where t represents different time steps.\n",
    "\n",
    "\n",
    "A 5D image incorporates an additional dimension beyond 4D, often used in cases with multiple variables, modalities, or experiments.\n",
    "\n",
    "The fifth dimension might represent:\n",
    "- Different imaging modalities\n",
    "- Multiple subjects or experiments: Capturing data for different conditions or individuals.\n",
    "- Deep Learning: Input to a neural network where each sample is a 5D tensor: (Batch,Time,Depth,Height,Width).\n",
    "\n",
    "\n",
    "4D - Moving 3D MRI scan over time\n",
    "\n",
    "5D - Multi-modal moving MRI for subjects"
   ]
  },
  {
   "cell_type": "markdown",
   "metadata": {},
   "source": [
    "### Video Application"
   ]
  },
  {
   "cell_type": "markdown",
   "metadata": {},
   "source": [
    "A video can be converted into a 4d image by representing the video frames as the time dimension of a 3D spatial structure.\n",
    "\n",
    "4D Image Shape: (Height,Width,Channels,Time Steps)\n",
    "\n",
    "For deep learning models applied to video data, it is essential to consider both spatial and temporal information because videos inherently contain:\n",
    "- Spatial Information: Static details within each frame (e.g., objects, textures, shapes).\n",
    "- Temporal Information: Motion and changes across frames over time.\n",
    "\n",
    "To address both aspects effectively, 3D image data can be used where the temporal dimension (time or motion) is integrated into the model's representation.\n",
    "\n",
    "Approaches for Video Applications:\n",
    "- Using 3D Convolutions (3D-CNNs)\n",
    "- Using 2D Convolutions with Temporal Modelling -\n",
    "    - Use 2D-CNNs to extract spatial features from each frame.\n",
    "    - Combine features over time using a sequential model like RNNs, LSTMs, or Transformers.\n",
    "- Hybrid Models (2D + 1D Temporal Modelling)\n",
    "    - Apply 1D convolutions or attention mechanisms across the temporal dimension to model motion and time.\n",
    "\n",
    "Video Classification:\n",
    "- https://www.tensorflow.org/tutorials/video/video_classification\n",
    "- https://www.geeksforgeeks.org/video-classification-with-a-3d-convolutional-neural-network/\n",
    "- https://keras.io/examples/vision/video_classification/\n",
    "- https://www.researchgate.net/publication/348119792_Video_Classification_Using_3D_Convolutional_Neural_Network\n"
   ]
  },
  {
   "cell_type": "markdown",
   "metadata": {
    "vscode": {
     "languageId": "markdown"
    }
   },
   "source": [
    "Image Resizing - https://www.geeksforgeeks.org/image-resizing-using-opencv-python/\n",
    "\n",
    "Image Blurring - https://www.geeksforgeeks.org/python-image-blurring-using-opencv/\n",
    "\n",
    "Contour Features - https://docs.opencv.org/4.x/dd/d49/tutorial_py_contour_features.html\n",
    "\n",
    "Filters - https://www.geeksforgeeks.org/python-opencv-filter2d-function/"
   ]
  },
  {
   "cell_type": "markdown",
   "metadata": {},
   "source": []
  }
 ],
 "metadata": {
  "language_info": {
   "name": "python"
  }
 },
 "nbformat": 4,
 "nbformat_minor": 2
}
